{
 "cells": [
  {
   "cell_type": "code",
   "execution_count": null,
   "id": "b4f9dd0b-ad99-4fd6-9887-7911eef0fbf9",
   "metadata": {},
   "outputs": [],
   "source": [
    "#sum of two numbers"
   ]
  },
  {
   "cell_type": "code",
   "execution_count": 3,
   "id": "b12bdfa8-5650-4bd5-a3da-495e84cff61a",
   "metadata": {},
   "outputs": [
    {
     "name": "stdin",
     "output_type": "stream",
     "text": [
      "enter first number 45\n",
      "enter second number 12\n"
     ]
    },
    {
     "name": "stdout",
     "output_type": "stream",
     "text": [
      "sum is  57.0\n"
     ]
    }
   ],
   "source": [
    "a= float(input(\"enter first number\"))\n",
    "b= float(input(\"enter second number\"))\n",
    "print(\"sum is \", a+b)"
   ]
  },
  {
   "cell_type": "code",
   "execution_count": 6,
   "id": "0ea2b2c5-d075-4e1a-801d-0b6babe208d2",
   "metadata": {},
   "outputs": [
    {
     "name": "stdin",
     "output_type": "stream",
     "text": [
      "enter radius 1\n"
     ]
    },
    {
     "name": "stdout",
     "output_type": "stream",
     "text": [
      "are is  3.141592653589793\n",
      "circumference is 6.283185307179586\n"
     ]
    }
   ],
   "source": [
    "# enter raduius\n",
    "import math\n",
    "a= float(input(\"enter radius\"))\n",
    "\n",
    "print(\"are is \", math.pi*(a**2))\n",
    "print(\"circumference is\", math.pi * 2*a)"
   ]
  },
  {
   "cell_type": "code",
   "execution_count": 11,
   "id": "a5f096d4-8e65-43aa-98cb-1b9c515ec780",
   "metadata": {},
   "outputs": [
    {
     "name": "stdin",
     "output_type": "stream",
     "text": [
      "enter roll number 45\n",
      "enter grade 3 A\n",
      "enter percentage 45.8\n"
     ]
    },
    {
     "name": "stdout",
     "output_type": "stream",
     "text": [
      "Roll number : 45 \n",
      "Grade : 3 A\n",
      "Percentage : 45.8\n"
     ]
    }
   ],
   "source": [
    "#WAP roll no, grade etc\n",
    "a= int(input(\"enter roll number\"))\n",
    "b= input(\"enter grade\")\n",
    "c= float(input(\"enter percentage\"))\n",
    "\n",
    "print(\"\"\"Roll number : {} \n",
    "Grade : {}\n",
    "Percentage : {}\"\"\".format(a,b,c))\n"
   ]
  },
  {
   "cell_type": "code",
   "execution_count": 12,
   "id": "91633a51-162d-4f92-bad4-ec7d27c821b9",
   "metadata": {},
   "outputs": [
    {
     "name": "stdin",
     "output_type": "stream",
     "text": [
      "enter name Dhanesh\n",
      "enter age 27\n"
     ]
    },
    {
     "name": "stdout",
     "output_type": "stream",
     "text": [
      "Name : Dhanesh \n",
      "Age : 27\n",
      "Age 100 in Year : 2095\n"
     ]
    }
   ],
   "source": [
    "a= input(\"enter name\")\n",
    "b= int(input(\"enter age\"))\n",
    "\n",
    "print(\"\"\"Name : {} \n",
    "Age : {}\n",
    "Age 100 in Year : {}\"\"\".format(a,b, 2022 + 100 - b))\n"
   ]
  },
  {
   "cell_type": "code",
   "execution_count": 18,
   "id": "006fee20-293d-4f06-8325-1e3e872f7264",
   "metadata": {},
   "outputs": [
    {
     "name": "stdin",
     "output_type": "stream",
     "text": [
      "enter two numbers seperated by space 45                56\n"
     ]
    },
    {
     "name": "stdout",
     "output_type": "stream",
     "text": [
      "sum is  101\n"
     ]
    }
   ],
   "source": [
    "a= input(\"enter two numbers seperated by space\")\n",
    "b= list(a.split())\n",
    "\n",
    "print(\"sum is \", int(b[0])+ int(b[1]))"
   ]
  },
  {
   "cell_type": "code",
   "execution_count": 22,
   "id": "b8ac93b8-2c8f-4386-b172-cf4d7f838b57",
   "metadata": {},
   "outputs": [
    {
     "name": "stdin",
     "output_type": "stream",
     "text": [
      "enter first name Dhanesh\n",
      "enter last name kp\n"
     ]
    },
    {
     "name": "stdout",
     "output_type": "stream",
     "text": [
      " name in complete reverse is pk hsenahD\n",
      " first and last name swapped is kp Dhanesh\n"
     ]
    }
   ],
   "source": [
    "a= input(\"enter first name\")\n",
    "b= input(\"enter last name\")\n",
    "print(\" name in complete reverse is \" + b[::-1] + \" \" + a[::-1])\n",
    "print(\" first and last name swapped is \" + b + \" \" +a )"
   ]
  },
  {
   "cell_type": "code",
   "execution_count": 23,
   "id": "d0e0d604-d29b-4321-b4fe-beb23586281d",
   "metadata": {},
   "outputs": [
    {
     "name": "stdin",
     "output_type": "stream",
     "text": [
      "enter first name Dhanesh\n",
      "enter last name kp\n"
     ]
    },
    {
     "name": "stdout",
     "output_type": "stream",
     "text": [
      " name in complete reverse is pk hsenahD\n"
     ]
    }
   ],
   "source": [
    "# duplicate of above\n",
    "a= input(\"enter first name\")\n",
    "b= input(\"enter last name\")\n",
    "\n",
    "print(\" name in complete reverse is \" + (a+ \" \" + b)[::-1] )"
   ]
  },
  {
   "cell_type": "code",
   "execution_count": 25,
   "id": "d0e9c391-978c-4845-90d0-53906bc6a31b",
   "metadata": {},
   "outputs": [
    {
     "name": "stdin",
     "output_type": "stream",
     "text": [
      " Enter an integer : 456456\n"
     ]
    },
    {
     "name": "stdout",
     "output_type": "stream",
     "text": [
      "Even\n"
     ]
    }
   ],
   "source": [
    "#15th dec\n",
    "if int(input(\" Enter an integer :\"))%2 ==0 :\n",
    "    print(\"Even\")\n",
    "else:\n",
    "    print(\"Odd\")"
   ]
  },
  {
   "cell_type": "code",
   "execution_count": 32,
   "id": "91b101ab-1e9b-4f62-9daf-214217297751",
   "metadata": {},
   "outputs": [
    {
     "name": "stdin",
     "output_type": "stream",
     "text": [
      " Enter an alphabet : c\n"
     ]
    },
    {
     "name": "stdout",
     "output_type": "stream",
     "text": [
      "small letter\n"
     ]
    },
    {
     "name": "stdin",
     "output_type": "stream",
     "text": [
      " Enter an alphabet : Z\n"
     ]
    },
    {
     "name": "stdout",
     "output_type": "stream",
     "text": [
      "Capital letter\n"
     ]
    }
   ],
   "source": [
    "import string\n",
    "if input(\" Enter an alphabet :\").isupper():\n",
    "    print(\"Capital letter\")\n",
    "else:\n",
    "    print(\"small letter\")\n",
    "    \n",
    "#altername\n",
    "\n",
    "if \"A\"<= input(\" Enter an alphabet :\") <= \"Z\":\n",
    "    print(\"Capital letter\")\n",
    "else:\n",
    "    print(\"small letter\")"
   ]
  },
  {
   "cell_type": "code",
   "execution_count": 38,
   "id": "3ae59612-aaea-4231-ab1a-c53410d19ac5",
   "metadata": {},
   "outputs": [
    {
     "name": "stdin",
     "output_type": "stream",
     "text": [
      " Enter a character: 7\n"
     ]
    },
    {
     "name": "stdout",
     "output_type": "stream",
     "text": [
      "Its a digit\n"
     ]
    }
   ],
   "source": [
    "import string\n",
    "a=input(\" Enter a character:\")\n",
    "if ord(\"0\")<= ord(a) <= ord(\"9\"):\n",
    "    print(\"Its a digit\")\n",
    "elif a.isupper():\n",
    "    print(\"Its a capital letter\")\n",
    "elif a.islower():\n",
    "    print(\"Its a small letter\")    \n",
    "else:\n",
    "    print(\"Its a special symbol\")\n",
    "    "
   ]
  },
  {
   "cell_type": "code",
   "execution_count": 66,
   "id": "dcea4965-40ea-40cb-9d1b-a689fb897fbb",
   "metadata": {},
   "outputs": [
    {
     "name": "stdin",
     "output_type": "stream",
     "text": [
      "enter two numbers seperated by space 6 9 2\n"
     ]
    },
    {
     "name": "stdout",
     "output_type": "stream",
     "text": [
      " largest :9\n"
     ]
    }
   ],
   "source": [
    "a= input(\"enter three numbers seperated by space\")\n",
    "b= list(a.split())\n",
    "x= int(b[0])\n",
    "y= int(b[1])\n",
    "z= int(b[2])\n",
    "\n",
    "if x > y:\n",
    "    if x > z:\n",
    "        largest=x\n",
    "    else:\n",
    "        largest=z\n",
    "else:\n",
    "    if x>z:\n",
    "        largest = y\n",
    "    elif z>y:\n",
    "        largest = z\n",
    "    else:\n",
    "        largest = y\n",
    "\n",
    "print(\" largest :\" + str(largest))\n",
    "    \n",
    "   "
   ]
  },
  {
   "cell_type": "code",
   "execution_count": 72,
   "id": "b24a045b-bdd1-46ee-b208-7becd6a4f3a2",
   "metadata": {},
   "outputs": [
    {
     "name": "stdin",
     "output_type": "stream",
     "text": [
      "enter a year: 2300\n"
     ]
    },
    {
     "name": "stdout",
     "output_type": "stream",
     "text": [
      "2300 not a leap year\n"
     ]
    }
   ],
   "source": [
    "a=int(input(\"enter a year:\"))\n",
    "if a%4 == 0 :\n",
    "    if a%100 !=0:\n",
    "        print(\"{} a leap year\".format(a))\n",
    "    elif a%400 == 0:\n",
    "        print(\"{} a leap year\".format(a))\n",
    "    else:\n",
    "        print(\"{} not a leap year\".format(a))\n",
    "else:\n",
    "    print(\"{} not a leap year\".format(a))\n",
    "     \n",
    "        \n",
    "    \n"
   ]
  },
  {
   "cell_type": "code",
   "execution_count": null,
   "id": "f3cbe71a-0bd4-40ef-86ca-f7dc982cd239",
   "metadata": {},
   "outputs": [
    {
     "name": "stdin",
     "output_type": "stream",
     "text": [
      "Guess the integer :  568\n"
     ]
    },
    {
     "name": "stdout",
     "output_type": "stream",
     "text": [
      " Number too small\n"
     ]
    },
    {
     "name": "stdin",
     "output_type": "stream",
     "text": [
      "Guess the integer :  3465364\n"
     ]
    },
    {
     "name": "stdout",
     "output_type": "stream",
     "text": [
      " Number too large\n"
     ]
    },
    {
     "name": "stdin",
     "output_type": "stream",
     "text": [
      "Guess the integer :  345345\n"
     ]
    },
    {
     "name": "stdout",
     "output_type": "stream",
     "text": [
      " Number too large\n"
     ]
    },
    {
     "name": "stdin",
     "output_type": "stream",
     "text": [
      "Guess the integer :  345\n"
     ]
    },
    {
     "name": "stdout",
     "output_type": "stream",
     "text": [
      " Number too small\n"
     ]
    },
    {
     "name": "stdin",
     "output_type": "stream",
     "text": [
      "Guess the integer :  1000\n"
     ]
    },
    {
     "name": "stdout",
     "output_type": "stream",
     "text": [
      " Number too small\n"
     ]
    },
    {
     "name": "stdin",
     "output_type": "stream",
     "text": [
      "Guess the integer :  10000\n"
     ]
    },
    {
     "name": "stdout",
     "output_type": "stream",
     "text": [
      " Number too small\n"
     ]
    },
    {
     "name": "stdin",
     "output_type": "stream",
     "text": [
      "Guess the integer :  100000\n"
     ]
    },
    {
     "name": "stdout",
     "output_type": "stream",
     "text": [
      " Number too large\n"
     ]
    },
    {
     "name": "stdin",
     "output_type": "stream",
     "text": [
      "Guess the integer :  90000\n"
     ]
    },
    {
     "name": "stdout",
     "output_type": "stream",
     "text": [
      " Number too large\n"
     ]
    },
    {
     "name": "stdin",
     "output_type": "stream",
     "text": [
      "Guess the integer :  80000\n"
     ]
    },
    {
     "name": "stdout",
     "output_type": "stream",
     "text": [
      " Number too large\n"
     ]
    },
    {
     "name": "stdin",
     "output_type": "stream",
     "text": [
      "Guess the integer :  50000\n"
     ]
    },
    {
     "name": "stdout",
     "output_type": "stream",
     "text": [
      " Number too large\n"
     ]
    },
    {
     "name": "stdin",
     "output_type": "stream",
     "text": [
      "Guess the integer :  40000\n"
     ]
    },
    {
     "name": "stdout",
     "output_type": "stream",
     "text": [
      " Number too small\n"
     ]
    },
    {
     "name": "stdin",
     "output_type": "stream",
     "text": [
      "Guess the integer :  45000\n"
     ]
    },
    {
     "name": "stdout",
     "output_type": "stream",
     "text": [
      " Number too large\n"
     ]
    },
    {
     "name": "stdin",
     "output_type": "stream",
     "text": [
      "Guess the integer :  44000\n"
     ]
    },
    {
     "name": "stdout",
     "output_type": "stream",
     "text": [
      " Number too large\n"
     ]
    },
    {
     "name": "stdin",
     "output_type": "stream",
     "text": [
      "Guess the integer :  43000\n"
     ]
    },
    {
     "name": "stdout",
     "output_type": "stream",
     "text": [
      " Number too large\n"
     ]
    },
    {
     "name": "stdin",
     "output_type": "stream",
     "text": [
      "Guess the integer :  42000\n"
     ]
    },
    {
     "name": "stdout",
     "output_type": "stream",
     "text": [
      " Number too small\n"
     ]
    },
    {
     "name": "stdin",
     "output_type": "stream",
     "text": [
      "Guess the integer :  42500\n"
     ]
    },
    {
     "name": "stdout",
     "output_type": "stream",
     "text": [
      " Number too small\n"
     ]
    },
    {
     "name": "stdin",
     "output_type": "stream",
     "text": [
      "Guess the integer :  42600\n"
     ]
    },
    {
     "name": "stdout",
     "output_type": "stream",
     "text": [
      " Number too small\n"
     ]
    },
    {
     "name": "stdin",
     "output_type": "stream",
     "text": [
      "Guess the integer :  42700\n"
     ]
    },
    {
     "name": "stdout",
     "output_type": "stream",
     "text": [
      " Number too large\n"
     ]
    },
    {
     "name": "stdin",
     "output_type": "stream",
     "text": [
      "Guess the integer :  42650\n"
     ]
    },
    {
     "name": "stdout",
     "output_type": "stream",
     "text": [
      " Number too large\n"
     ]
    },
    {
     "name": "stdin",
     "output_type": "stream",
     "text": [
      "Guess the integer :  42625\n"
     ]
    },
    {
     "name": "stdout",
     "output_type": "stream",
     "text": [
      " Number too large\n"
     ]
    },
    {
     "name": "stdin",
     "output_type": "stream",
     "text": [
      "Guess the integer :  42613\n"
     ]
    },
    {
     "name": "stdout",
     "output_type": "stream",
     "text": [
      " Number too small\n"
     ]
    },
    {
     "name": "stdin",
     "output_type": "stream",
     "text": [
      "Guess the integer :  42622\n"
     ]
    },
    {
     "name": "stdout",
     "output_type": "stream",
     "text": [
      " Number too large\n"
     ]
    },
    {
     "name": "stdin",
     "output_type": "stream",
     "text": [
      "Guess the integer :  42619\n"
     ]
    },
    {
     "name": "stdout",
     "output_type": "stream",
     "text": [
      " Number too large\n"
     ]
    },
    {
     "name": "stdin",
     "output_type": "stream",
     "text": [
      "Guess the integer :  42617\n"
     ]
    },
    {
     "name": "stdout",
     "output_type": "stream",
     "text": [
      " Number too large\n"
     ]
    },
    {
     "name": "stdin",
     "output_type": "stream",
     "text": [
      "Guess the integer :  42615\n"
     ]
    },
    {
     "name": "stdout",
     "output_type": "stream",
     "text": [
      " Number too large\n"
     ]
    },
    {
     "name": "stdin",
     "output_type": "stream",
     "text": [
      "Guess the integer :  42614\n"
     ]
    },
    {
     "name": "stdout",
     "output_type": "stream",
     "text": [
      " You guessed it right\n"
     ]
    }
   ],
   "source": [
    "import random\n",
    "\n",
    "a= random.randint(0,65535)\n",
    "b=1\n",
    "while b > 0:\n",
    "    b = int(input(\"Guess the integer : (0 to 65535)\"))\n",
    "    if b == a :\n",
    "        print(\" You guessed it right\")\n",
    "        break\n",
    "    elif b > a :\n",
    "        print(\" Number too large\")\n",
    "    else:\n",
    "        print(\" Number too small\")\n",
    "else:\n",
    "    print (\" You couldnt guess {}\".format(a))\n",
    "        "
   ]
  },
  {
   "cell_type": "code",
   "execution_count": 80,
   "id": "3aea676e-96a9-4602-9e23-b7ee03966275",
   "metadata": {},
   "outputs": [
    {
     "name": "stdin",
     "output_type": "stream",
     "text": [
      "Guess the integer : (0 to 65535) 78\n"
     ]
    },
    {
     "name": "stdout",
     "output_type": "stream",
     "text": [
      " Number too small\n"
     ]
    },
    {
     "name": "stdin",
     "output_type": "stream",
     "text": [
      "Guess the integer : (0 to 65535) 10000\n"
     ]
    },
    {
     "name": "stdout",
     "output_type": "stream",
     "text": [
      " Number too small\n"
     ]
    },
    {
     "name": "stdin",
     "output_type": "stream",
     "text": [
      "Guess the integer : (0 to 65535) 20000\n"
     ]
    },
    {
     "name": "stdout",
     "output_type": "stream",
     "text": [
      " Number too large\n"
     ]
    },
    {
     "name": "stdin",
     "output_type": "stream",
     "text": [
      "Guess the integer : (0 to 65535) 15000\n"
     ]
    },
    {
     "name": "stdout",
     "output_type": "stream",
     "text": [
      " Number too large\n"
     ]
    },
    {
     "name": "stdin",
     "output_type": "stream",
     "text": [
      "Guess the integer : (0 to 65535) 12500\n"
     ]
    },
    {
     "name": "stdout",
     "output_type": "stream",
     "text": [
      " Number too small\n"
     ]
    },
    {
     "name": "stdin",
     "output_type": "stream",
     "text": [
      "Guess the integer : (0 to 65535) 13700\n"
     ]
    },
    {
     "name": "stdout",
     "output_type": "stream",
     "text": [
      " Number too small\n"
     ]
    },
    {
     "name": "stdin",
     "output_type": "stream",
     "text": [
      "Guess the integer : (0 to 65535) 14500\n"
     ]
    },
    {
     "name": "stdout",
     "output_type": "stream",
     "text": [
      " Number too large\n"
     ]
    },
    {
     "name": "stdin",
     "output_type": "stream",
     "text": [
      "Guess the integer : (0 to 65535) 14000\n"
     ]
    },
    {
     "name": "stdout",
     "output_type": "stream",
     "text": [
      " Number too small\n"
     ]
    },
    {
     "name": "stdin",
     "output_type": "stream",
     "text": [
      "Guess the integer : (0 to 65535) 14250\n"
     ]
    },
    {
     "name": "stdout",
     "output_type": "stream",
     "text": [
      " Number too small\n"
     ]
    },
    {
     "name": "stdin",
     "output_type": "stream",
     "text": [
      "Guess the integer : (0 to 65535) 14375\n"
     ]
    },
    {
     "name": "stdout",
     "output_type": "stream",
     "text": [
      " Number too large\n"
     ]
    },
    {
     "name": "stdin",
     "output_type": "stream",
     "text": [
      "Guess the integer : (0 to 65535) 14310\n"
     ]
    },
    {
     "name": "stdout",
     "output_type": "stream",
     "text": [
      " Number too large\n"
     ]
    },
    {
     "name": "stdin",
     "output_type": "stream",
     "text": [
      "Guess the integer : (0 to 65535) 14280\n"
     ]
    },
    {
     "name": "stdout",
     "output_type": "stream",
     "text": [
      " Number too large\n"
     ]
    },
    {
     "name": "stdin",
     "output_type": "stream",
     "text": [
      "Guess the integer : (0 to 65535) 14265\n"
     ]
    },
    {
     "name": "stdout",
     "output_type": "stream",
     "text": [
      " Number too large\n"
     ]
    },
    {
     "name": "stdin",
     "output_type": "stream",
     "text": [
      "Guess the integer : (0 to 65535) 14257\n"
     ]
    },
    {
     "name": "stdout",
     "output_type": "stream",
     "text": [
      " Number too small\n"
     ]
    },
    {
     "name": "stdin",
     "output_type": "stream",
     "text": [
      "Guess the integer : (0 to 65535) 14260\n"
     ]
    },
    {
     "name": "stdout",
     "output_type": "stream",
     "text": [
      " Number too large\n"
     ]
    },
    {
     "name": "stdin",
     "output_type": "stream",
     "text": [
      "Guess the integer : (0 to 65535) 14259\n"
     ]
    },
    {
     "name": "stdout",
     "output_type": "stream",
     "text": [
      " Number too large\n"
     ]
    },
    {
     "name": "stdin",
     "output_type": "stream",
     "text": [
      "Guess the integer : (0 to 65535) 14258\n"
     ]
    },
    {
     "name": "stdout",
     "output_type": "stream",
     "text": [
      " You guessed it right\n"
     ]
    }
   ],
   "source": [
    "# same as above , just testing the exit; this is the final version\n",
    "import random\n",
    "\n",
    "a= random.randint(0,65535)\n",
    "b= int(input(\"Guess the integer : (0 to 65535)\"))\n",
    "while b > 0:\n",
    "   \n",
    "    if b == a :\n",
    "        print(\" You guessed it right\")\n",
    "        break\n",
    "    elif b > a :\n",
    "        print(\" Number too large\")\n",
    "    else:\n",
    "        print(\" Number too small\")\n",
    "    b = int(input(\"Guess the integer : (0 to 65535)\"))    \n",
    "else:\n",
    "    print (\" You couldnt guess {}\".format(a))"
   ]
  },
  {
   "cell_type": "code",
   "execution_count": 87,
   "id": "c95f3d27-6bcf-4e4b-a3d7-60e55dc81c50",
   "metadata": {},
   "outputs": [
    {
     "name": "stdin",
     "output_type": "stream",
     "text": [
      " Enter a string: DHANESH\n"
     ]
    },
    {
     "name": "stdout",
     "output_type": "stream",
     "text": [
      "D\n",
      "H\n",
      "N\n",
      "S\n",
      "H\n"
     ]
    }
   ],
   "source": [
    "a,i=input(\" Enter a string:\"),0\n",
    "while i < len(a) :\n",
    "    if a[i].lower() not in ['a','e','i','o','u']:\n",
    "        print(a[i])\n",
    "    else:\n",
    "        pass\n",
    "    i+=1\n"
   ]
  },
  {
   "cell_type": "code",
   "execution_count": 92,
   "id": "131e6c9a-5a61-42ad-a8f7-b991c3037eae",
   "metadata": {},
   "outputs": [
    {
     "name": "stdin",
     "output_type": "stream",
     "text": [
      "Enter an integer :  6\n",
      "Enter another integer ( '0' to end) :  67\n",
      "Enter another integer ( '0' to end) :  0\n"
     ]
    },
    {
     "name": "stdout",
     "output_type": "stream",
     "text": [
      " Sum of all integers entered is 73\n"
     ]
    }
   ],
   "source": [
    "b , sum1 = int(input(\"Enter an integer : \")),0\n",
    "while b != 0:\n",
    "    sum1+=b\n",
    "    b = int(input(\"Enter another integer ( '0' to end) : \"))    \n",
    "else:\n",
    "    print (\" Sum of all integers entered is {}\".format(sum1))"
   ]
  },
  {
   "cell_type": "code",
   "execution_count": 93,
   "id": "ccdba04c-c7c9-4d05-a5e6-5987c93c19ae",
   "metadata": {},
   "outputs": [
    {
     "name": "stdin",
     "output_type": "stream",
     "text": [
      "Enter an integer :  5\n",
      "Enter another integer ( '0' to end) :  -5\n",
      "Enter another integer ( '0' to end) :  5\n",
      "Enter another integer ( '0' to end) :  0\n"
     ]
    },
    {
     "name": "stdout",
     "output_type": "stream",
     "text": [
      " Sum of all integers entered is 10\n"
     ]
    }
   ],
   "source": [
    "b , sum1 = int(input(\"Enter an integer : \")),0\n",
    "while b != 0:\n",
    "    if b <0:\n",
    "        pass\n",
    "    else:\n",
    "        sum1+=b\n",
    "    b = int(input(\"Enter another integer ( '0' to end) : \"))   \n",
    "else:\n",
    "    print (\" Sum of all integers entered is {}\".format(sum1))"
   ]
  },
  {
   "cell_type": "code",
   "execution_count": 97,
   "id": "1e38dfb4-e34d-4888-998b-426a94aa8f92",
   "metadata": {},
   "outputs": [
    {
     "name": "stdin",
     "output_type": "stream",
     "text": [
      " Enter a string: Dhanesh\n"
     ]
    },
    {
     "name": "stdout",
     "output_type": "stream",
     "text": [
      "D\n",
      "h\n",
      "n\n",
      "s\n"
     ]
    }
   ],
   "source": [
    "a,i=input(\" Enter a string:\"),0\n",
    "for i in range(0,len(a)-1) :\n",
    "    if a[i].lower() not in ['a','e','i','o','u']:\n",
    "        print(a[i])\n",
    "    else:\n",
    "        pass\n"
   ]
  },
  {
   "cell_type": "code",
   "execution_count": 100,
   "id": "26a49448-972e-422a-8480-e1adb14f4db0",
   "metadata": {},
   "outputs": [
    {
     "name": "stdin",
     "output_type": "stream",
     "text": [
      "Enter an integer :  5\n"
     ]
    },
    {
     "name": "stdout",
     "output_type": "stream",
     "text": [
      " Sum of integers from 1 to 5 is : 15\n"
     ]
    }
   ],
   "source": [
    "b , sum1,x = int(input(\"Enter an integer : \")),0 ,1\n",
    "while x <= b:\n",
    "        sum1+=x\n",
    "        x+=1\n",
    "\n",
    "print (\" Sum of integers from 1 to {} is : {}\".format(b,sum1))\n",
    "        \n"
   ]
  },
  {
   "cell_type": "code",
   "execution_count": 102,
   "id": "b37a8a00-16b8-44c5-9e29-1c565623b439",
   "metadata": {},
   "outputs": [
    {
     "name": "stdin",
     "output_type": "stream",
     "text": [
      "Enter an integer :  5\n"
     ]
    },
    {
     "name": "stdout",
     "output_type": "stream",
     "text": [
      " Factorial of 5 is : 120\n"
     ]
    }
   ],
   "source": [
    "b , fact, x = int(input(\"Enter an integer : \")),1 ,1\n",
    "while x <= b:\n",
    "        fact*=x\n",
    "        x+=1\n",
    "\n",
    "print (\" Factorial of {} is : {}\".format(b,fact))"
   ]
  },
  {
   "cell_type": "code",
   "execution_count": 9,
   "id": "63682d82-1971-42d7-b493-3742e66ac868",
   "metadata": {},
   "outputs": [
    {
     "name": "stdout",
     "output_type": "stream",
     "text": [
      "***\n",
      "***\n",
      "***\n",
      "***\n"
     ]
    }
   ],
   "source": [
    "for i in range(0,4) :\n",
    "    for j in range(0,3) :\n",
    "         print(\"*\",end=\"\")\n",
    "    print(\"\")       \n",
    "    "
   ]
  },
  {
   "cell_type": "code",
   "execution_count": 10,
   "id": "2741e441-df1b-47fa-ad15-890d063231a5",
   "metadata": {},
   "outputs": [
    {
     "name": "stdout",
     "output_type": "stream",
     "text": [
      "*\n",
      "**\n",
      "***\n",
      "****\n"
     ]
    }
   ],
   "source": [
    "for i in range(0,4) :\n",
    "    for j in range(0,i+1) :\n",
    "         print(\"*\",end=\"\")\n",
    "    print(\"\")     "
   ]
  },
  {
   "cell_type": "code",
   "execution_count": 11,
   "id": "4838b0b5-df2d-43e8-a8f5-26ff7bb3d994",
   "metadata": {},
   "outputs": [
    {
     "name": "stdout",
     "output_type": "stream",
     "text": [
      "****\n",
      "***\n",
      "**\n",
      "*\n"
     ]
    }
   ],
   "source": [
    "for i in range(0,4) :\n",
    "    for j in range(0,4-i) :\n",
    "         print(\"*\",end=\"\")\n",
    "    print(\"\") "
   ]
  },
  {
   "cell_type": "code",
   "execution_count": 20,
   "id": "f8545655-83ab-4f47-9177-3c11f5a90e67",
   "metadata": {},
   "outputs": [
    {
     "name": "stdin",
     "output_type": "stream",
     "text": [
      "Enter integer ( '0' to end) :  9\n"
     ]
    },
    {
     "name": "stdout",
     "output_type": "stream",
     "text": [
      "1 2 3 4 5 6 7 8 9 "
     ]
    },
    {
     "name": "stdin",
     "output_type": "stream",
     "text": [
      "Enter integer ( '0' to end) :  0\n"
     ]
    },
    {
     "name": "stdout",
     "output_type": "stream",
     "text": [
      "end\n"
     ]
    }
   ],
   "source": [
    "while 1:\n",
    "    b = int(input(\"Enter integer ( '0' to end) : \"))   \n",
    "    for j in range(1,b+1) :\n",
    "            print(j ,end=\" \")\n",
    "    if b == 0:\n",
    "        print(\"end\")\n",
    "        break\n",
    "    "
   ]
  },
  {
   "cell_type": "code",
   "execution_count": null,
   "id": "6ecd82fe-048a-4c04-bd4f-2d439df5d95c",
   "metadata": {},
   "outputs": [],
   "source": []
  }
 ],
 "metadata": {
  "kernelspec": {
   "display_name": "Python 3 (ipykernel)",
   "language": "python",
   "name": "python3"
  },
  "language_info": {
   "codemirror_mode": {
    "name": "ipython",
    "version": 3
   },
   "file_extension": ".py",
   "mimetype": "text/x-python",
   "name": "python",
   "nbconvert_exporter": "python",
   "pygments_lexer": "ipython3",
   "version": "3.10.6"
  }
 },
 "nbformat": 4,
 "nbformat_minor": 5
}
